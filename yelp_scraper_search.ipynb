{
 "cells": [
  {
   "cell_type": "markdown",
   "metadata": {},
   "source": [
    "# Yelp Scraper - Search Results"
   ]
  },
  {
   "cell_type": "markdown",
   "metadata": {},
   "source": [
    "Search keyword on Yelp and scrape results."
   ]
  },
  {
   "cell_type": "code",
   "execution_count": 332,
   "metadata": {},
   "outputs": [],
   "source": [
    "import requests\n",
    "import lxml.html\n",
    "import pandas as pd\n",
    "import re\n",
    "from selenium import webdriver\n",
    "from bs4 import BeautifulSoup"
   ]
  },
  {
   "cell_type": "markdown",
   "metadata": {},
   "source": [
    "### Search"
   ]
  },
  {
   "cell_type": "code",
   "execution_count": 333,
   "metadata": {},
   "outputs": [],
   "source": [
    "chrome_path = r\"/Users/selenalu/Documents/chromedriver\"\n",
    "driver = webdriver.Chrome(chrome_path)"
   ]
  },
  {
   "cell_type": "code",
   "execution_count": 337,
   "metadata": {},
   "outputs": [],
   "source": [
    "url = 'https://www.yelp.com'\n",
    "driver.get(url)"
   ]
  },
  {
   "cell_type": "code",
   "execution_count": 338,
   "metadata": {},
   "outputs": [
    {
     "name": "stdout",
     "output_type": "stream",
     "text": [
      "Search: fast food\n"
     ]
    }
   ],
   "source": [
    "search = input('Search: ')"
   ]
  },
  {
   "cell_type": "code",
   "execution_count": 339,
   "metadata": {},
   "outputs": [],
   "source": [
    "element = driver.find_elements_by_xpath('//input[@id=\"find_desc\"]')[0]\n",
    "element.send_keys(search);\n",
    "element.submit()"
   ]
  },
  {
   "cell_type": "markdown",
   "metadata": {},
   "source": [
    "### Scrape Results"
   ]
  },
  {
   "cell_type": "markdown",
   "metadata": {},
   "source": [
    "Get names and URLs."
   ]
  },
  {
   "cell_type": "code",
   "execution_count": 340,
   "metadata": {},
   "outputs": [],
   "source": [
    "def names_urls(driver):\n",
    "    element = driver.find_elements_by_xpath('//a[@class = \" link__09f24__1kwXV link-color--inherit__09f24__3PYlA link-size--inherit__09f24__2Uj95\"]')\n",
    "    names = [i.text for i in element]\n",
    "    urls = [i.get_attribute('href') for i in element]\n",
    "    for url in list(urls):\n",
    "        if 'adredir?' in url:\n",
    "            script = \"return document.getElementsByClassName(' container__09f24__21w3G hoverable__09f24__2nTf3 margin-t3__09f24__5bM2Z margin-b3__09f24__1DQ9x padding-t3__09f24__-R_5x padding-r3__09f24__1pBFG padding-b3__09f24__1vW6j padding-l3__09f24__1yCJf border--top__09f24__1H_WE border--right__09f24__28idl border--bottom__09f24__2FjZW border--left__09f24__33iol border-color--default__09f24__R1nRO')[i].remove();\"\n",
    "            script = script.replace(\"[i]\",\"[{}]\".format(urls.index(url)))\n",
    "            driver.execute_script(script);\n",
    "            del names[urls.index(url)]\n",
    "            del urls[urls.index(url)]\n",
    "    return [names, urls]"
   ]
  },
  {
   "cell_type": "markdown",
   "metadata": {},
   "source": [
    "Get number of stars."
   ]
  },
  {
   "cell_type": "code",
   "execution_count": 341,
   "metadata": {},
   "outputs": [],
   "source": [
    "def STARS(driver):\n",
    "    html = driver.page_source \n",
    "    soup = BeautifulSoup(html, \"html.parser\")\n",
    "    element = soup.select('div[aria-label*=\"star rating\"]')\n",
    "    stars = [float(i['aria-label'].replace(' star rating','')) for i in element]\n",
    "    return stars"
   ]
  },
  {
   "cell_type": "markdown",
   "metadata": {},
   "source": [
    "Get categories and price range."
   ]
  },
  {
   "cell_type": "code",
   "execution_count": 342,
   "metadata": {},
   "outputs": [],
   "source": [
    "def categories_price(driver):    \n",
    "    element = driver.find_elements_by_xpath('//div[@class=\" priceCategory__09f24__2IbAM display--inline-block__09f24__FsgS4 border-color--default__09f24__R1nRO\"]')\n",
    "    categories = [i.text.replace('$','') for i in element]\n",
    "    price = [re.match('\\$*',i.text).group(0) if '$' in i.text else '' for i in element]\n",
    "    price = [sum(map(lambda x : 1 if '$' in x else 0, i)) for i in price]\n",
    "    return [categories, price]"
   ]
  },
  {
   "cell_type": "markdown",
   "metadata": {},
   "source": [
    "Get number of reviews."
   ]
  },
  {
   "cell_type": "code",
   "execution_count": 343,
   "metadata": {},
   "outputs": [],
   "source": [
    "def REVIEWS(driver):\n",
    "    element = driver.find_elements_by_xpath('//span[@class=\" text__09f24__2tZKC reviewCount__09f24__EUXPN text-color--black-extra-light__09f24__38DtK text-align--left__09f24__3Drs0\"]')\n",
    "    reviews = [i.text for i in element]\n",
    "    return reviews"
   ]
  },
  {
   "cell_type": "markdown",
   "metadata": {},
   "source": [
    "Get results for 1-9 pages."
   ]
  },
  {
   "cell_type": "code",
   "execution_count": 344,
   "metadata": {},
   "outputs": [],
   "source": [
    "element = driver.find_elements_by_xpath('//a[@class=\" link__09f24__1kwXV pagination-link-component__09f24__H0ICg link-color--inherit__09f24__3PYlA link-size--inherit__09f24__2Uj95\"]')\n",
    "pages = [i.get_attribute(\"href\") for i in element]"
   ]
  },
  {
   "cell_type": "code",
   "execution_count": 345,
   "metadata": {},
   "outputs": [],
   "source": [
    "def get_results(url):\n",
    "    driver.get(url)\n",
    "    names = names_urls(driver)[0]\n",
    "    urls = names_urls(driver)[1]\n",
    "    stars = STARS(driver)\n",
    "    category = categories_price(driver)[0]\n",
    "    price = categories_price(driver)[1]\n",
    "    reviews = REVIEWS(driver)\n",
    "    df = pd.DataFrame(data={'Name':names,'Category':category,'Stars':stars,'Reviews':reviews,'Price Range (number of $ signs)':price,'Url':urls})\n",
    "    return df"
   ]
  },
  {
   "cell_type": "code",
   "execution_count": 346,
   "metadata": {},
   "outputs": [
    {
     "name": "stdout",
     "output_type": "stream",
     "text": [
      "Number of pages: 2\n"
     ]
    }
   ],
   "source": [
    "num_pages = input(\"Number of pages: \")"
   ]
  },
  {
   "cell_type": "code",
   "execution_count": 347,
   "metadata": {},
   "outputs": [],
   "source": [
    "names = names_urls(driver)[0]\n",
    "urls = names_urls(driver)[1]\n",
    "stars = STARS(driver)\n",
    "category = categories_price(driver)[0]\n",
    "price = categories_price(driver)[1]\n",
    "reviews = REVIEWS(driver)\n",
    "df = pd.DataFrame(data={'Name':names,'Category':category,'Stars':stars,'Reviews':reviews,'Price Range (number of $ signs)':price,'Url':urls})\n",
    "if int(num_pages)>1:\n",
    "    for i in range(int(num_pages)):\n",
    "        df = df.append(get_results(pages[i]))\n",
    "df = df.reset_index(drop=True)"
   ]
  },
  {
   "cell_type": "markdown",
   "metadata": {},
   "source": [
    "Sort results by Name, Stars, Reviews, or Price Range (number of $ signs)."
   ]
  },
  {
   "cell_type": "code",
   "execution_count": 348,
   "metadata": {},
   "outputs": [
    {
     "name": "stdout",
     "output_type": "stream",
     "text": [
      "Sort by: Price Range (number of $ signs)\n"
     ]
    }
   ],
   "source": [
    "sort = input(\"Sort by: \")"
   ]
  },
  {
   "cell_type": "code",
   "execution_count": 349,
   "metadata": {},
   "outputs": [
    {
     "name": "stdout",
     "output_type": "stream",
     "text": [
      "Number of results shown: 10\n"
     ]
    }
   ],
   "source": [
    "number = input(\"Number of results shown: \")"
   ]
  },
  {
   "cell_type": "code",
   "execution_count": 350,
   "metadata": {},
   "outputs": [
    {
     "data": {
      "text/html": [
       "<div>\n",
       "<style scoped>\n",
       "    .dataframe tbody tr th:only-of-type {\n",
       "        vertical-align: middle;\n",
       "    }\n",
       "\n",
       "    .dataframe tbody tr th {\n",
       "        vertical-align: top;\n",
       "    }\n",
       "\n",
       "    .dataframe thead th {\n",
       "        text-align: right;\n",
       "    }\n",
       "</style>\n",
       "<table border=\"1\" class=\"dataframe\">\n",
       "  <thead>\n",
       "    <tr style=\"text-align: right;\">\n",
       "      <th></th>\n",
       "      <th>Name</th>\n",
       "      <th>Category</th>\n",
       "      <th>Stars</th>\n",
       "      <th>Reviews</th>\n",
       "      <th>Price Range (number of $ signs)</th>\n",
       "      <th>Url</th>\n",
       "    </tr>\n",
       "  </thead>\n",
       "  <tbody>\n",
       "    <tr>\n",
       "      <th>0</th>\n",
       "      <td>Wingstop</td>\n",
       "      <td>Chicken Wings</td>\n",
       "      <td>2.0</td>\n",
       "      <td>254</td>\n",
       "      <td>2</td>\n",
       "      <td>https://www.yelp.com/biz/wingstop-la-puente?os...</td>\n",
       "    </tr>\n",
       "    <tr>\n",
       "      <th>1</th>\n",
       "      <td>Boca Del Rio</td>\n",
       "      <td>Mexican, Fast Food</td>\n",
       "      <td>4.0</td>\n",
       "      <td>587</td>\n",
       "      <td>1</td>\n",
       "      <td>https://www.yelp.com/biz/boca-del-rio-la-puent...</td>\n",
       "    </tr>\n",
       "    <tr>\n",
       "      <th>2</th>\n",
       "      <td>In-N-Out Burger</td>\n",
       "      <td>Fast Food, Burgers</td>\n",
       "      <td>4.5</td>\n",
       "      <td>387</td>\n",
       "      <td>1</td>\n",
       "      <td>https://www.yelp.com/biz/in-n-out-burger-baldw...</td>\n",
       "    </tr>\n",
       "    <tr>\n",
       "      <th>3</th>\n",
       "      <td>Rally’s</td>\n",
       "      <td>American (Traditional), Fast Food, Burgers</td>\n",
       "      <td>2.0</td>\n",
       "      <td>76</td>\n",
       "      <td>1</td>\n",
       "      <td>https://www.yelp.com/biz/rallys-baldwin-park?o...</td>\n",
       "    </tr>\n",
       "    <tr>\n",
       "      <th>4</th>\n",
       "      <td>G&amp;D Burgers</td>\n",
       "      <td>Burgers</td>\n",
       "      <td>4.0</td>\n",
       "      <td>57</td>\n",
       "      <td>1</td>\n",
       "      <td>https://www.yelp.com/biz/g-and-d-burgers-la-pu...</td>\n",
       "    </tr>\n",
       "    <tr>\n",
       "      <th>5</th>\n",
       "      <td>El Pollo Loco</td>\n",
       "      <td>Fast Food, Mexican</td>\n",
       "      <td>2.0</td>\n",
       "      <td>109</td>\n",
       "      <td>1</td>\n",
       "      <td>https://www.yelp.com/biz/el-pollo-loco-la-puen...</td>\n",
       "    </tr>\n",
       "    <tr>\n",
       "      <th>6</th>\n",
       "      <td>Burger King</td>\n",
       "      <td>Fast Food, Burgers</td>\n",
       "      <td>1.5</td>\n",
       "      <td>46</td>\n",
       "      <td>1</td>\n",
       "      <td>https://www.yelp.com/biz/burger-king-la-puente...</td>\n",
       "    </tr>\n",
       "    <tr>\n",
       "      <th>7</th>\n",
       "      <td>Wendy’s</td>\n",
       "      <td>Fast Food, Burgers</td>\n",
       "      <td>2.0</td>\n",
       "      <td>105</td>\n",
       "      <td>1</td>\n",
       "      <td>https://www.yelp.com/biz/wendys-w-covina?osq=f...</td>\n",
       "    </tr>\n",
       "    <tr>\n",
       "      <th>8</th>\n",
       "      <td>In-N-Out Burger</td>\n",
       "      <td>Burgers, Fast Food</td>\n",
       "      <td>3.5</td>\n",
       "      <td>172</td>\n",
       "      <td>1</td>\n",
       "      <td>https://www.yelp.com/biz/in-n-out-burger-hacie...</td>\n",
       "    </tr>\n",
       "    <tr>\n",
       "      <th>9</th>\n",
       "      <td>Pepe’s</td>\n",
       "      <td>Mexican</td>\n",
       "      <td>4.0</td>\n",
       "      <td>332</td>\n",
       "      <td>1</td>\n",
       "      <td>https://www.yelp.com/biz/pepes-hacienda-height...</td>\n",
       "    </tr>\n",
       "  </tbody>\n",
       "</table>\n",
       "</div>"
      ],
      "text/plain": [
       "              Name                                    Category  Stars Reviews  \\\n",
       "0         Wingstop                               Chicken Wings    2.0     254   \n",
       "1     Boca Del Rio                          Mexican, Fast Food    4.0     587   \n",
       "2  In-N-Out Burger                          Fast Food, Burgers    4.5     387   \n",
       "3          Rally’s  American (Traditional), Fast Food, Burgers    2.0      76   \n",
       "4      G&D Burgers                                     Burgers    4.0      57   \n",
       "5    El Pollo Loco                          Fast Food, Mexican    2.0     109   \n",
       "6      Burger King                          Fast Food, Burgers    1.5      46   \n",
       "7          Wendy’s                          Fast Food, Burgers    2.0     105   \n",
       "8  In-N-Out Burger                          Burgers, Fast Food    3.5     172   \n",
       "9           Pepe’s                                     Mexican    4.0     332   \n",
       "\n",
       "   Price Range (number of $ signs)  \\\n",
       "0                                2   \n",
       "1                                1   \n",
       "2                                1   \n",
       "3                                1   \n",
       "4                                1   \n",
       "5                                1   \n",
       "6                                1   \n",
       "7                                1   \n",
       "8                                1   \n",
       "9                                1   \n",
       "\n",
       "                                                 Url  \n",
       "0  https://www.yelp.com/biz/wingstop-la-puente?os...  \n",
       "1  https://www.yelp.com/biz/boca-del-rio-la-puent...  \n",
       "2  https://www.yelp.com/biz/in-n-out-burger-baldw...  \n",
       "3  https://www.yelp.com/biz/rallys-baldwin-park?o...  \n",
       "4  https://www.yelp.com/biz/g-and-d-burgers-la-pu...  \n",
       "5  https://www.yelp.com/biz/el-pollo-loco-la-puen...  \n",
       "6  https://www.yelp.com/biz/burger-king-la-puente...  \n",
       "7  https://www.yelp.com/biz/wendys-w-covina?osq=f...  \n",
       "8  https://www.yelp.com/biz/in-n-out-burger-hacie...  \n",
       "9  https://www.yelp.com/biz/pepes-hacienda-height...  "
      ]
     },
     "execution_count": 350,
     "metadata": {},
     "output_type": "execute_result"
    }
   ],
   "source": [
    "if sort == 'Name':\n",
    "    df = df.sort_values(sort).reset_index(drop=True)\n",
    "else:\n",
    "    df = df.sort_values(sort, ascending=False).reset_index(drop=True)\n",
    "df[:int(number)]"
   ]
  },
  {
   "cell_type": "code",
   "execution_count": null,
   "metadata": {},
   "outputs": [],
   "source": []
  }
 ],
 "metadata": {
  "kernelspec": {
   "display_name": "Python 3",
   "language": "python",
   "name": "python3"
  },
  "language_info": {
   "codemirror_mode": {
    "name": "ipython",
    "version": 3
   },
   "file_extension": ".py",
   "mimetype": "text/x-python",
   "name": "python",
   "nbconvert_exporter": "python",
   "pygments_lexer": "ipython3",
   "version": "3.8.3"
  }
 },
 "nbformat": 4,
 "nbformat_minor": 4
}
