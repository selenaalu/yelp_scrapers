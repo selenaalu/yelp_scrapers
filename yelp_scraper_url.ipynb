{
 "cells": [
  {
   "cell_type": "markdown",
   "metadata": {},
   "source": [
    "# Yelp Scraper - Reviews"
   ]
  },
  {
   "cell_type": "markdown",
   "metadata": {},
   "source": [
    "Scrape Yelp reviews using a url."
   ]
  },
  {
   "cell_type": "code",
   "execution_count": 237,
   "metadata": {},
   "outputs": [],
   "source": [
    "import requests\n",
    "import lxml.html\n",
    "import pandas as pd\n",
    "import re\n",
    "import time\n",
    "from selenium import webdriver\n",
    "from bs4 import BeautifulSoup"
   ]
  },
  {
   "cell_type": "markdown",
   "metadata": {},
   "source": [
    "### Load Page"
   ]
  },
  {
   "cell_type": "code",
   "execution_count": 238,
   "metadata": {},
   "outputs": [],
   "source": [
    "chrome_path = r\"/Users/selenalu/Documents/chromedriver\"\n",
    "driver = webdriver.Chrome(chrome_path)"
   ]
  },
  {
   "cell_type": "code",
   "execution_count": 239,
   "metadata": {},
   "outputs": [
    {
     "name": "stdout",
     "output_type": "stream",
     "text": [
      "url: https://www.yelp.com/biz/waba-grill-los-angeles-24\n"
     ]
    }
   ],
   "source": [
    "url = input('url: ')"
   ]
  },
  {
   "cell_type": "code",
   "execution_count": 240,
   "metadata": {},
   "outputs": [],
   "source": [
    "driver.get(url)"
   ]
  },
  {
   "cell_type": "markdown",
   "metadata": {},
   "source": [
    "### Scrape Information"
   ]
  },
  {
   "cell_type": "markdown",
   "metadata": {},
   "source": [
    "Get name."
   ]
  },
  {
   "cell_type": "code",
   "execution_count": 241,
   "metadata": {},
   "outputs": [],
   "source": [
    "element = driver.find_elements_by_xpath('//h1[@class=\"lemon--h1__373c0__2ZHSL heading--h1__373c0__dvYgw undefined heading--inline__373c0__10ozy\"]')\n",
    "name = element[0].text"
   ]
  },
  {
   "cell_type": "markdown",
   "metadata": {},
   "source": [
    "Get star rating."
   ]
  },
  {
   "cell_type": "code",
   "execution_count": 242,
   "metadata": {},
   "outputs": [],
   "source": [
    "html = driver.page_source \n",
    "soup = BeautifulSoup(html, \"html.parser\")\n",
    "element = soup.select('div[aria-label*=\"star rating\"]')\n",
    "stars = element[0]['aria-label']"
   ]
  },
  {
   "cell_type": "markdown",
   "metadata": {},
   "source": [
    "Get category."
   ]
  },
  {
   "cell_type": "code",
   "execution_count": 243,
   "metadata": {},
   "outputs": [],
   "source": [
    "element = driver.find_elements_by_xpath('//span[@class=\"lemon--span__373c0__3997G display--inline__373c0__3JqBP margin-r1__373c0__zyKmV border-color--default__373c0__3-ifU\"]')\n",
    "category = element[1].text\n",
    "if '$' in category:\n",
    "    category = element[2].text"
   ]
  },
  {
   "cell_type": "markdown",
   "metadata": {},
   "source": [
    "Get website."
   ]
  },
  {
   "cell_type": "code",
   "execution_count": 244,
   "metadata": {},
   "outputs": [],
   "source": [
    "element = driver.find_elements_by_xpath('//a[@rel=\"noopener nofollow\"]')\n",
    "if not element:\n",
    "    website = ''\n",
    "else:\n",
    "    website = element[0].text"
   ]
  },
  {
   "cell_type": "markdown",
   "metadata": {},
   "source": [
    "Get phone number."
   ]
  },
  {
   "cell_type": "code",
   "execution_count": 245,
   "metadata": {},
   "outputs": [],
   "source": [
    "element = driver.find_elements_by_xpath('//p[contains(text(),\"Phone number\")]/following-sibling::p')\n",
    "if not element:\n",
    "    phone = ''\n",
    "else:\n",
    "    phone = element[0].text"
   ]
  },
  {
   "cell_type": "markdown",
   "metadata": {},
   "source": [
    "Get address."
   ]
  },
  {
   "cell_type": "code",
   "execution_count": 246,
   "metadata": {},
   "outputs": [],
   "source": [
    "element = driver.find_elements_by_xpath('//a[contains(text(),\"Get Directions\")]/following-sibling::p')\n",
    "if not element:\n",
    "    address = ''\n",
    "else:\n",
    "    address = element[0].text"
   ]
  },
  {
   "cell_type": "markdown",
   "metadata": {},
   "source": [
    "Get hours."
   ]
  },
  {
   "cell_type": "code",
   "execution_count": 247,
   "metadata": {},
   "outputs": [],
   "source": [
    "element = driver.find_elements_by_xpath('//tbody[@class=\"lemon--tbody__373c0__2T6Pl\"]/tr')\n",
    "if not hours:\n",
    "    hours = []\n",
    "else:\n",
    "    hours = [i.text.replace('\\n',' ').replace(' Closed now','') for i in element]\n",
    "    hours = list(filter(None, hours))"
   ]
  },
  {
   "cell_type": "markdown",
   "metadata": {},
   "source": [
    "Get number of reviews."
   ]
  },
  {
   "cell_type": "code",
   "execution_count": 248,
   "metadata": {},
   "outputs": [],
   "source": [
    "element = driver.find_elements_by_xpath('//span[@class=\"lemon--span__373c0__3997G text__373c0__2Kxyz text-color--white__373c0__22aE8 text-align--left__373c0__2XGa- text-weight--semibold__373c0__2l0fe text-size--large__373c0__3t60B\"]')\n",
    "reviews = element[0].text"
   ]
  },
  {
   "cell_type": "markdown",
   "metadata": {},
   "source": [
    "Compile and get specific information."
   ]
  },
  {
   "cell_type": "code",
   "execution_count": 249,
   "metadata": {},
   "outputs": [
    {
     "data": {
      "text/html": [
       "<div>\n",
       "<style scoped>\n",
       "    .dataframe tbody tr th:only-of-type {\n",
       "        vertical-align: middle;\n",
       "    }\n",
       "\n",
       "    .dataframe tbody tr th {\n",
       "        vertical-align: top;\n",
       "    }\n",
       "\n",
       "    .dataframe thead th {\n",
       "        text-align: right;\n",
       "    }\n",
       "</style>\n",
       "<table border=\"1\" class=\"dataframe\">\n",
       "  <thead>\n",
       "    <tr style=\"text-align: right;\">\n",
       "      <th></th>\n",
       "      <th>Name</th>\n",
       "      <th>Stars</th>\n",
       "      <th>Category</th>\n",
       "      <th>Website</th>\n",
       "      <th>Phone number</th>\n",
       "      <th>Address</th>\n",
       "      <th>Hours</th>\n",
       "      <th>Reviews</th>\n",
       "    </tr>\n",
       "  </thead>\n",
       "  <tbody>\n",
       "    <tr>\n",
       "      <th>0</th>\n",
       "      <td>WaBa Grill</td>\n",
       "      <td>3.5 star rating</td>\n",
       "      <td>Fast Food, Asian Fusion</td>\n",
       "      <td></td>\n",
       "      <td>(323) 675-1090</td>\n",
       "      <td>6316 N Figueroa St, Los Angeles, CA 90042</td>\n",
       "      <td>[Mon 11:00 AM - 9:00 PM, Tue 11:00 AM - 9:00 P...</td>\n",
       "      <td>62 reviews</td>\n",
       "    </tr>\n",
       "  </tbody>\n",
       "</table>\n",
       "</div>"
      ],
      "text/plain": [
       "         Name            Stars                 Category Website  \\\n",
       "0  WaBa Grill  3.5 star rating  Fast Food, Asian Fusion           \n",
       "\n",
       "     Phone number                                    Address  \\\n",
       "0  (323) 675-1090  6316 N Figueroa St, Los Angeles, CA 90042   \n",
       "\n",
       "                                               Hours     Reviews  \n",
       "0  [Mon 11:00 AM - 9:00 PM, Tue 11:00 AM - 9:00 P...  62 reviews  "
      ]
     },
     "execution_count": 249,
     "metadata": {},
     "output_type": "execute_result"
    }
   ],
   "source": [
    "df = pd.DataFrame(data={'Name':[name],'Stars':[stars],'Category':[category],'Website':[website],'Phone number':[phone],'Address':[address],'Hours':[hours],'Reviews':[reviews]})\n",
    "df"
   ]
  },
  {
   "cell_type": "code",
   "execution_count": 250,
   "metadata": {},
   "outputs": [
    {
     "name": "stdout",
     "output_type": "stream",
     "text": [
      "Get value for column: Name\n"
     ]
    }
   ],
   "source": [
    "column = input('Get value for column: ')"
   ]
  },
  {
   "cell_type": "code",
   "execution_count": 251,
   "metadata": {},
   "outputs": [
    {
     "data": {
      "text/plain": [
       "'WaBa Grill'"
      ]
     },
     "execution_count": 251,
     "metadata": {},
     "output_type": "execute_result"
    }
   ],
   "source": [
    "df[column][0]"
   ]
  },
  {
   "cell_type": "markdown",
   "metadata": {},
   "source": [
    "### Scrape Reviews"
   ]
  },
  {
   "cell_type": "markdown",
   "metadata": {},
   "source": [
    "Get names."
   ]
  },
  {
   "cell_type": "code",
   "execution_count": 252,
   "metadata": {},
   "outputs": [],
   "source": [
    "def NAMES(driver):\n",
    "    element = driver.find_elements_by_xpath('//div[@class=\"lemon--div__373c0__1mboc user-passport-info border-color--default__373c0__3-ifU\"]/span/a')\n",
    "    name = [i.text for i in element]\n",
    "    return name"
   ]
  },
  {
   "cell_type": "markdown",
   "metadata": {},
   "source": [
    "Get star ratings."
   ]
  },
  {
   "cell_type": "code",
   "execution_count": 253,
   "metadata": {},
   "outputs": [],
   "source": [
    "def STARS(driver):\n",
    "    element = driver.find_elements_by_xpath('//div[@class=\"lemon--div__373c0__1mboc review__373c0__13kpL border-color--default__373c0__3-ifU\"]/div/div/div/span/div')\n",
    "    stars = [int(i.get_attribute('aria-label').replace(' star rating','')) for i in element]\n",
    "    return stars"
   ]
  },
  {
   "cell_type": "markdown",
   "metadata": {},
   "source": [
    "Get date."
   ]
  },
  {
   "cell_type": "code",
   "execution_count": 254,
   "metadata": {},
   "outputs": [],
   "source": [
    "def DATE(driver):\n",
    "    element = driver.find_elements_by_xpath('//div[@class=\"lemon--div__373c0__1mboc review__373c0__13kpL border-color--default__373c0__3-ifU\"]/div/div/div/span')\n",
    "    date = [i.text for i in element if '/' in i.text]\n",
    "    return date"
   ]
  },
  {
   "cell_type": "markdown",
   "metadata": {},
   "source": [
    "Get number \"Useful\"."
   ]
  },
  {
   "cell_type": "code",
   "execution_count": 255,
   "metadata": {},
   "outputs": [],
   "source": [
    "def USEFUL(driver):\n",
    "    element = driver.find_elements_by_xpath('//span[contains(text(),\"Useful\")]')\n",
    "    useful = [i.text.replace('Useful','').replace(' ','') for i in element]\n",
    "    useful = [0 if i=='' else int(i) for i in useful]\n",
    "    return useful"
   ]
  },
  {
   "cell_type": "markdown",
   "metadata": {},
   "source": [
    "Get number \"Funny\"."
   ]
  },
  {
   "cell_type": "code",
   "execution_count": 256,
   "metadata": {},
   "outputs": [],
   "source": [
    "def FUNNY(driver):\n",
    "    element = driver.find_elements_by_xpath('//span[contains(text(),\"Funny\")]')\n",
    "    funny = [i.text.replace('Useful','').replace(' ','') for i in element]\n",
    "    funny = [0 if i=='' else int(i) for i in useful]\n",
    "    return funny"
   ]
  },
  {
   "cell_type": "markdown",
   "metadata": {},
   "source": [
    "Get number \"Cool\"."
   ]
  },
  {
   "cell_type": "code",
   "execution_count": 257,
   "metadata": {},
   "outputs": [],
   "source": [
    "def COOL(driver):\n",
    "    element = driver.find_elements_by_xpath('//span[contains(text(),\"Cool\")]')\n",
    "    cool = [i.text.replace('Useful','').replace(' ','') for i in element]\n",
    "    cool = [0 if i=='' else int(i) for i in useful]\n",
    "    return cool"
   ]
  },
  {
   "cell_type": "markdown",
   "metadata": {},
   "source": [
    "Get text of reviews."
   ]
  },
  {
   "cell_type": "code",
   "execution_count": 258,
   "metadata": {},
   "outputs": [],
   "source": [
    "def TEXT(driver):\n",
    "    element = driver.find_elements_by_xpath('//div[@class=\"lemon--div__373c0__1mboc margin-b2__373c0__abANL border-color--default__373c0__3-ifU\"]/p/span')\n",
    "    text = [i.text.replace('\\n',' ') for i in element]\n",
    "    return text"
   ]
  },
  {
   "cell_type": "markdown",
   "metadata": {},
   "source": [
    "Compile all reviews."
   ]
  },
  {
   "cell_type": "code",
   "execution_count": 259,
   "metadata": {},
   "outputs": [],
   "source": [
    "element = driver.find_elements_by_xpath('//div[@class=\"lemon--div__373c0__1mboc pagination__373c0__3z4d_ border--top__373c0__3gXLy border--bottom__373c0__3qNtD border-color--default__373c0__3-ifU\"]')\n",
    "pages = int(element[0].text[len(element[0].text)-1])"
   ]
  },
  {
   "cell_type": "code",
   "execution_count": 261,
   "metadata": {},
   "outputs": [
    {
     "data": {
      "text/html": [
       "<div>\n",
       "<style scoped>\n",
       "    .dataframe tbody tr th:only-of-type {\n",
       "        vertical-align: middle;\n",
       "    }\n",
       "\n",
       "    .dataframe tbody tr th {\n",
       "        vertical-align: top;\n",
       "    }\n",
       "\n",
       "    .dataframe thead th {\n",
       "        text-align: right;\n",
       "    }\n",
       "</style>\n",
       "<table border=\"1\" class=\"dataframe\">\n",
       "  <thead>\n",
       "    <tr style=\"text-align: right;\">\n",
       "      <th></th>\n",
       "      <th>Name</th>\n",
       "      <th>Stars</th>\n",
       "      <th>Date</th>\n",
       "      <th>Text</th>\n",
       "      <th>Useful</th>\n",
       "      <th>Funny</th>\n",
       "      <th>Cool</th>\n",
       "    </tr>\n",
       "  </thead>\n",
       "  <tbody>\n",
       "    <tr>\n",
       "      <th>0</th>\n",
       "      <td>Vivian V.</td>\n",
       "      <td>5</td>\n",
       "      <td>8/3/2020</td>\n",
       "      <td>I come here often when I want to eat something...</td>\n",
       "      <td>NaN</td>\n",
       "      <td>NaN</td>\n",
       "      <td>NaN</td>\n",
       "    </tr>\n",
       "    <tr>\n",
       "      <th>1</th>\n",
       "      <td>Salomon D.</td>\n",
       "      <td>1</td>\n",
       "      <td>11/16/2020</td>\n",
       "      <td>I know we're are in the middle of a pandemic, ...</td>\n",
       "      <td>NaN</td>\n",
       "      <td>NaN</td>\n",
       "      <td>NaN</td>\n",
       "    </tr>\n",
       "    <tr>\n",
       "      <th>2</th>\n",
       "      <td>Kimberly M.</td>\n",
       "      <td>1</td>\n",
       "      <td>8/19/2020</td>\n",
       "      <td>I FOUND A METAL NAIL IN MY PLATE!!!! I am stil...</td>\n",
       "      <td>NaN</td>\n",
       "      <td>NaN</td>\n",
       "      <td>NaN</td>\n",
       "    </tr>\n",
       "    <tr>\n",
       "      <th>3</th>\n",
       "      <td>Karen S.</td>\n",
       "      <td>5</td>\n",
       "      <td>11/25/2020</td>\n",
       "      <td>They are all humble workers.  I enjoy their sa...</td>\n",
       "      <td>NaN</td>\n",
       "      <td>NaN</td>\n",
       "      <td>NaN</td>\n",
       "    </tr>\n",
       "    <tr>\n",
       "      <th>4</th>\n",
       "      <td>Nellie W.</td>\n",
       "      <td>2</td>\n",
       "      <td>6/2/2020</td>\n",
       "      <td>I came to pickup lunch here after seeing a cli...</td>\n",
       "      <td>NaN</td>\n",
       "      <td>NaN</td>\n",
       "      <td>NaN</td>\n",
       "    </tr>\n",
       "    <tr>\n",
       "      <th>...</th>\n",
       "      <td>...</td>\n",
       "      <td>...</td>\n",
       "      <td>...</td>\n",
       "      <td>...</td>\n",
       "      <td>...</td>\n",
       "      <td>...</td>\n",
       "      <td>...</td>\n",
       "    </tr>\n",
       "    <tr>\n",
       "      <th>57</th>\n",
       "      <td>Giovanni C.</td>\n",
       "      <td>5</td>\n",
       "      <td>8/20/2016</td>\n",
       "      <td>Great service for restaurant that has been ope...</td>\n",
       "      <td>0.0</td>\n",
       "      <td>0.0</td>\n",
       "      <td>0.0</td>\n",
       "    </tr>\n",
       "    <tr>\n",
       "      <th>58</th>\n",
       "      <td>Tiffany A.</td>\n",
       "      <td>1</td>\n",
       "      <td>12/16/2017</td>\n",
       "      <td>The reason why I am giving this rating is not ...</td>\n",
       "      <td>1.0</td>\n",
       "      <td>1.0</td>\n",
       "      <td>1.0</td>\n",
       "    </tr>\n",
       "    <tr>\n",
       "      <th>59</th>\n",
       "      <td>Eva N.</td>\n",
       "      <td>5</td>\n",
       "      <td>5/24/2017</td>\n",
       "      <td>Always great experience when I eat here. Excel...</td>\n",
       "      <td>0.0</td>\n",
       "      <td>0.0</td>\n",
       "      <td>0.0</td>\n",
       "    </tr>\n",
       "    <tr>\n",
       "      <th>60</th>\n",
       "      <td>Ray F.</td>\n",
       "      <td>5</td>\n",
       "      <td>2/11/2017</td>\n",
       "      <td>My experience at this Waba Grill yesterday was...</td>\n",
       "      <td>0.0</td>\n",
       "      <td>0.0</td>\n",
       "      <td>0.0</td>\n",
       "    </tr>\n",
       "    <tr>\n",
       "      <th>61</th>\n",
       "      <td>Jazmin C.</td>\n",
       "      <td>5</td>\n",
       "      <td>11/14/2016</td>\n",
       "      <td>This spot just opened up in HLP. Great costume...</td>\n",
       "      <td>0.0</td>\n",
       "      <td>0.0</td>\n",
       "      <td>0.0</td>\n",
       "    </tr>\n",
       "  </tbody>\n",
       "</table>\n",
       "<p>62 rows × 7 columns</p>\n",
       "</div>"
      ],
      "text/plain": [
       "           Name  Stars        Date  \\\n",
       "0     Vivian V.      5    8/3/2020   \n",
       "1    Salomon D.      1  11/16/2020   \n",
       "2   Kimberly M.      1   8/19/2020   \n",
       "3      Karen S.      5  11/25/2020   \n",
       "4     Nellie W.      2    6/2/2020   \n",
       "..          ...    ...         ...   \n",
       "57  Giovanni C.      5   8/20/2016   \n",
       "58   Tiffany A.      1  12/16/2017   \n",
       "59       Eva N.      5   5/24/2017   \n",
       "60       Ray F.      5   2/11/2017   \n",
       "61    Jazmin C.      5  11/14/2016   \n",
       "\n",
       "                                                 Text  Useful  Funny  Cool  \n",
       "0   I come here often when I want to eat something...     NaN    NaN   NaN  \n",
       "1   I know we're are in the middle of a pandemic, ...     NaN    NaN   NaN  \n",
       "2   I FOUND A METAL NAIL IN MY PLATE!!!! I am stil...     NaN    NaN   NaN  \n",
       "3   They are all humble workers.  I enjoy their sa...     NaN    NaN   NaN  \n",
       "4   I came to pickup lunch here after seeing a cli...     NaN    NaN   NaN  \n",
       "..                                                ...     ...    ...   ...  \n",
       "57  Great service for restaurant that has been ope...     0.0    0.0   0.0  \n",
       "58  The reason why I am giving this rating is not ...     1.0    1.0   1.0  \n",
       "59  Always great experience when I eat here. Excel...     0.0    0.0   0.0  \n",
       "60  My experience at this Waba Grill yesterday was...     0.0    0.0   0.0  \n",
       "61  This spot just opened up in HLP. Great costume...     0.0    0.0   0.0  \n",
       "\n",
       "[62 rows x 7 columns]"
      ]
     },
     "execution_count": 261,
     "metadata": {},
     "output_type": "execute_result"
    }
   ],
   "source": [
    "names = NAMES(driver)\n",
    "stars = STARS(driver)\n",
    "date = DATE(driver)\n",
    "text = TEXT(driver)\n",
    "useful = USEFUL(driver)\n",
    "funny = FUNNY(driver)\n",
    "cool = COOL(driver)\n",
    "df = pd.DataFrame(data={'Name':names,'Stars':stars,'Date':date,'Text':text})\n",
    "for i in range(pages-1):\n",
    "    button = driver.find_elements_by_xpath('//div[@class=\"lemon--div__373c0__1mboc navigation-button-container__373c0__2BpRi border-color--default__373c0__3-ifU\"]')[1]\n",
    "    button.click()\n",
    "    time.sleep(4)\n",
    "    names = NAMES(driver)\n",
    "    stars = STARS(driver)\n",
    "    date = DATE(driver)\n",
    "    text = TEXT(driver)\n",
    "    useful = USEFUL(driver)\n",
    "    funny = FUNNY(driver)\n",
    "    cool = COOL(driver)\n",
    "    df = df.append(pd.DataFrame(data={'Name':names,'Stars':stars,'Date':date,'Text':text,'Useful':useful,'Funny':funny,'Cool':cool})).reset_index(drop=True)\n",
    "df"
   ]
  },
  {
   "cell_type": "code",
   "execution_count": null,
   "metadata": {},
   "outputs": [],
   "source": []
  }
 ],
 "metadata": {
  "kernelspec": {
   "display_name": "Python 3",
   "language": "python",
   "name": "python3"
  },
  "language_info": {
   "codemirror_mode": {
    "name": "ipython",
    "version": 3
   },
   "file_extension": ".py",
   "mimetype": "text/x-python",
   "name": "python",
   "nbconvert_exporter": "python",
   "pygments_lexer": "ipython3",
   "version": "3.8.3"
  }
 },
 "nbformat": 4,
 "nbformat_minor": 4
}
